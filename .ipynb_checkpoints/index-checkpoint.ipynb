{
 "cells": [
  {
   "cell_type": "markdown",
   "metadata": {},
   "source": [
    "# EVCI Siting Tool\n",
    "\n",
    "> A python based mathematical framework to assess utilization capability of EVCI sites"
   ]
  },
  {
   "cell_type": "markdown",
   "metadata": {},
   "source": [
    "## Install"
   ]
  },
  {
   "cell_type": "markdown",
   "metadata": {},
   "source": [
    "`pip install evci_tool`"
   ]
  },
  {
   "cell_type": "markdown",
   "metadata": {},
   "source": [
    "## How to use"
   ]
  },
  {
   "cell_type": "markdown",
   "metadata": {},
   "source": [
    "The model inputs are provided in the form of excel files (xlsx). The `analyze_sites()` is the entry level function and completes the analysis for specified corridor"
   ]
  },
  {
   "cell_type": "code",
   "execution_count": 3,
   "metadata": {},
   "outputs": [
    {
     "name": "stdout",
     "output_type": "stream",
     "text": [
      "\n",
      "Initial Analysis\n",
      "________________\n",
      "\n",
      "Number of sites: 48/48\n"
     ]
    },
    {
     "name": "stderr",
     "output_type": "stream",
     "text": [
      "100%|███████████████████████████████████████████████| 48/48 [00:04<00:00, 10.40it/s]\n"
     ]
    },
    {
     "name": "stdout",
     "output_type": "stream",
     "text": [
      "Total capex charges = INR Cr 8.99\n",
      "Total opex charges = INR Cr 42.25\n",
      "Total Margin = INR Cr 13.25\n",
      "confirmed sites with utilization > 20%:  41\n"
     ]
    },
    {
     "data": {
      "text/html": [
       "<div>\n",
       "<style scoped>\n",
       "    .dataframe tbody tr th:only-of-type {\n",
       "        vertical-align: middle;\n",
       "    }\n",
       "\n",
       "    .dataframe tbody tr th {\n",
       "        vertical-align: top;\n",
       "    }\n",
       "\n",
       "    .dataframe thead th {\n",
       "        text-align: right;\n",
       "    }\n",
       "</style>\n",
       "<table border=\"1\" class=\"dataframe\">\n",
       "  <thead>\n",
       "    <tr style=\"text-align: right;\">\n",
       "      <th></th>\n",
       "      <th>Name</th>\n",
       "      <th>Latitude</th>\n",
       "      <th>Longitude</th>\n",
       "      <th>Traffic congestion</th>\n",
       "      <th>year 1</th>\n",
       "      <th>kiosk hoarding</th>\n",
       "      <th>hoarding margin</th>\n",
       "      <th>geometry</th>\n",
       "      <th>utilization</th>\n",
       "      <th>unserviced</th>\n",
       "      <th>capex</th>\n",
       "      <th>opex</th>\n",
       "      <th>margin</th>\n",
       "      <th>max vehicles</th>\n",
       "      <th>estimated vehicles</th>\n",
       "    </tr>\n",
       "  </thead>\n",
       "  <tbody>\n",
       "    <tr>\n",
       "      <th>0</th>\n",
       "      <td>Fish Pond Restaurant</td>\n",
       "      <td>34.071387</td>\n",
       "      <td>77.634410</td>\n",
       "      <td>1</td>\n",
       "      <td>1</td>\n",
       "      <td>1</td>\n",
       "      <td>270000</td>\n",
       "      <td>POINT (77.63441 34.07139)</td>\n",
       "      <td>0.647994</td>\n",
       "      <td>0.188651</td>\n",
       "      <td>1872000.0</td>\n",
       "      <td>7.949308e+06</td>\n",
       "      <td>2.632397e+06</td>\n",
       "      <td>44.0</td>\n",
       "      <td>29.0</td>\n",
       "    </tr>\n",
       "    <tr>\n",
       "      <th>1</th>\n",
       "      <td>Jack &amp; jim's</td>\n",
       "      <td>34.146624</td>\n",
       "      <td>77.581010</td>\n",
       "      <td>1</td>\n",
       "      <td>1</td>\n",
       "      <td>1</td>\n",
       "      <td>270000</td>\n",
       "      <td>POINT (77.58101 34.14662)</td>\n",
       "      <td>0.002483</td>\n",
       "      <td>0.000000</td>\n",
       "      <td>1872000.0</td>\n",
       "      <td>3.475824e+06</td>\n",
       "      <td>1.961374e+06</td>\n",
       "      <td>44.0</td>\n",
       "      <td>0.0</td>\n",
       "    </tr>\n",
       "    <tr>\n",
       "      <th>2</th>\n",
       "      <td>DIKI FAST FOOD CORNER</td>\n",
       "      <td>34.111891</td>\n",
       "      <td>77.589740</td>\n",
       "      <td>1</td>\n",
       "      <td>1</td>\n",
       "      <td>1</td>\n",
       "      <td>270000</td>\n",
       "      <td>POINT (77.58974 34.11189)</td>\n",
       "      <td>0.781058</td>\n",
       "      <td>0.322434</td>\n",
       "      <td>1872000.0</td>\n",
       "      <td>9.709403e+06</td>\n",
       "      <td>2.896411e+06</td>\n",
       "      <td>44.0</td>\n",
       "      <td>34.0</td>\n",
       "    </tr>\n",
       "    <tr>\n",
       "      <th>3</th>\n",
       "      <td>Hunger Eye Restaurant</td>\n",
       "      <td>34.142904</td>\n",
       "      <td>77.584443</td>\n",
       "      <td>1</td>\n",
       "      <td>1</td>\n",
       "      <td>1</td>\n",
       "      <td>270000</td>\n",
       "      <td>POINT (77.58444 34.14290)</td>\n",
       "      <td>0.350293</td>\n",
       "      <td>0.050997</td>\n",
       "      <td>1872000.0</td>\n",
       "      <td>5.266601e+06</td>\n",
       "      <td>2.229991e+06</td>\n",
       "      <td>44.0</td>\n",
       "      <td>15.0</td>\n",
       "    </tr>\n",
       "    <tr>\n",
       "      <th>4</th>\n",
       "      <td>Shakya Aryan Restaurant</td>\n",
       "      <td>34.100226</td>\n",
       "      <td>77.597219</td>\n",
       "      <td>1</td>\n",
       "      <td>1</td>\n",
       "      <td>1</td>\n",
       "      <td>270000</td>\n",
       "      <td>POINT (77.59722 34.10023)</td>\n",
       "      <td>0.488419</td>\n",
       "      <td>0.087652</td>\n",
       "      <td>1872000.0</td>\n",
       "      <td>6.280517e+06</td>\n",
       "      <td>2.382078e+06</td>\n",
       "      <td>44.0</td>\n",
       "      <td>21.0</td>\n",
       "    </tr>\n",
       "  </tbody>\n",
       "</table>\n",
       "</div>"
      ],
      "text/plain": [
       "                      Name   Latitude  Longitude  Traffic congestion  year 1  \\\n",
       "0     Fish Pond Restaurant  34.071387  77.634410                   1       1   \n",
       "1             Jack & jim's  34.146624  77.581010                   1       1   \n",
       "2    DIKI FAST FOOD CORNER  34.111891  77.589740                   1       1   \n",
       "3    Hunger Eye Restaurant  34.142904  77.584443                   1       1   \n",
       "4  Shakya Aryan Restaurant  34.100226  77.597219                   1       1   \n",
       "\n",
       "   kiosk hoarding  hoarding margin                   geometry  utilization  \\\n",
       "0               1           270000  POINT (77.63441 34.07139)     0.647994   \n",
       "1               1           270000  POINT (77.58101 34.14662)     0.002483   \n",
       "2               1           270000  POINT (77.58974 34.11189)     0.781058   \n",
       "3               1           270000  POINT (77.58444 34.14290)     0.350293   \n",
       "4               1           270000  POINT (77.59722 34.10023)     0.488419   \n",
       "\n",
       "   unserviced      capex          opex        margin  max vehicles  \\\n",
       "0    0.188651  1872000.0  7.949308e+06  2.632397e+06          44.0   \n",
       "1    0.000000  1872000.0  3.475824e+06  1.961374e+06          44.0   \n",
       "2    0.322434  1872000.0  9.709403e+06  2.896411e+06          44.0   \n",
       "3    0.050997  1872000.0  5.266601e+06  2.229991e+06          44.0   \n",
       "4    0.087652  1872000.0  6.280517e+06  2.382078e+06          44.0   \n",
       "\n",
       "   estimated vehicles  \n",
       "0                29.0  \n",
       "1                 0.0  \n",
       "2                34.0  \n",
       "3                15.0  \n",
       "4                21.0  "
      ]
     },
     "execution_count": 3,
     "metadata": {},
     "output_type": "execute_result"
    }
   ],
   "source": [
    "#|example usage\n",
    "\n",
    "from evci_tool.config import *\n",
    "from evci_tool.model import *\n",
    "from evci_tool.analysis import *\n",
    "\n",
    "ui_inputs = { \n",
    "    \"M\": [\"3WS\", \"4WS\"],\n",
    "    \"years_of_analysis\": 2,\n",
    "    \"capex_2W\": 2500,\n",
    "    \"capex_3WS\": 112000,\n",
    "    \"capex_4WS\": 250000,\n",
    "    \"capex_4WF\": 1500000,\n",
    "    \"hoarding cost\": 900000,\n",
    "    \"kiosk_cost\": 180000,\n",
    "    \"year1_conversion\": 0.02,\n",
    "    \"year2_conversion\": 0.05,\n",
    "    \"year3_conversion\": 0.1,\n",
    "    \"holiday_percentage\": 0.3,\n",
    "    \"fast_charging\": 0.3,\n",
    "    \"slow_charging\": 0.15,\n",
    "}\n",
    "\n",
    "\n",
    "u_df = analyze_sites ('chandigarh_leh',ui_inputs,use_defaults=True)\n",
    "u_df.head()"
   ]
  },
  {
   "cell_type": "code",
   "execution_count": null,
   "metadata": {},
   "outputs": [],
   "source": []
  }
 ],
 "metadata": {
  "kernelspec": {
   "display_name": "Python 3 (ipykernel)",
   "language": "python",
   "name": "python3"
  },
  "language_info": {
   "codemirror_mode": {
    "name": "ipython",
    "version": 3
   },
   "file_extension": ".py",
   "mimetype": "text/x-python",
   "name": "python",
   "nbconvert_exporter": "python",
   "pygments_lexer": "ipython3",
   "version": "3.8.5"
  }
 },
 "nbformat": 4,
 "nbformat_minor": 4
}
