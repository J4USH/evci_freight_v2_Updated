{
 "cells": [
  {
   "cell_type": "markdown",
   "id": "15bd307f",
   "metadata": {},
   "source": [
    "# Proof of correctness for multiplication"
   ]
  },
  {
   "cell_type": "markdown",
   "id": "fad87391",
   "metadata": {},
   "source": [
    "Consider two numbers $a$ and $b$ such that $a$ is $m$-digit and $b$ is $n$-digit.\n",
    "\n",
    "$$ a = \\left [ a_m, \\cdots, a_0 \\right ]$$\n",
    "$$ b = \\left [ b_n, \\cdots, b_0 \\right ]$$"
   ]
  },
  {
   "cell_type": "markdown",
   "id": "0cae4d8a",
   "metadata": {},
   "source": [
    "Consider implementing function $M(a,b)$ that returns a list with required digits of multiplication of $a$ and $b$"
   ]
  },
  {
   "cell_type": "markdown",
   "id": "02da660e",
   "metadata": {},
   "source": [
    "Value of $a$ = $a_0 + 10.a_1 + .... + 10^{m-1}a_m$\n",
    "\n",
    "Similarly, $b$ = $b_0 + 10.b_1 + .... + 10^{n-1}b_n$\n",
    "\n",
    "$$ b = \\sum_{j=0}^n 10^j.b_j $$"
   ]
  },
  {
   "cell_type": "markdown",
   "id": "3eba8409",
   "metadata": {},
   "source": [
    "Now,\n",
    "\n",
    "$$ a . b = a \\sum_{j=0}^n 10^j . b_j $$\n",
    "\n",
    "$$ a . b = \\sum_{j=0}^n a . 10^j . b_j $$\n",
    "\n",
    "$$ a . b = a \\sum_{j=0}^n 10^j . a.b_j $$\n"
   ]
  },
  {
   "cell_type": "markdown",
   "id": "2d57004a",
   "metadata": {},
   "source": [
    "$$  = ab_0 + ab_1.10 + \\cdots + ab_n.10^n $$\n",
    "\n",
    "That is,\n",
    "\n",
    "$$  = ab_0 + (ab_1 + \\cdots + ab_n.10^{n-1}).10 $$"
   ]
  },
  {
   "cell_type": "markdown",
   "id": "d5aa55b6",
   "metadata": {},
   "source": [
    "So,\n",
    "\n",
    "$$ M = ab_0, \\mbox{if n = 0}$$\n",
    "\n",
    "$$ M = ab_0 + M (a,b^\\prime), \\mbox{if n > 0}$$\n",
    "\n",
    "Please note $b_0$ = b div 10 and $b^\\prime$ = b mod 10"
   ]
  },
  {
   "cell_type": "markdown",
   "id": "7840a262",
   "metadata": {},
   "source": [
    "### Basis\n",
    "\n",
    "When $n=0$, \n",
    "\n",
    "$$ b = b_0 $$\n",
    "$$ M(a,b) = ab_0 = ab$$"
   ]
  },
  {
   "cell_type": "markdown",
   "id": "c8d5135d",
   "metadata": {},
   "source": [
    "### IH\n",
    "\n",
    "Assume, $n>0$ and $M(a,c) = ac$ for all c which have $n$ digits"
   ]
  },
  {
   "cell_type": "markdown",
   "id": "61da82a7",
   "metadata": {},
   "source": [
    "### IS\n",
    "\n",
    "As $n>0$, $b>0$, hence \n",
    "\n",
    "$$ b = 10.b^\\prime + b_0 $$"
   ]
  },
  {
   "cell_type": "markdown",
   "id": "157ef1c8",
   "metadata": {},
   "source": [
    "Now,\n",
    "\n",
    "$$ M (a,b) = a . (hd b) + 10 . M (a, tl (b)) $$\n",
    "\n",
    "$$ M (a,b) = ab_0 + 10 . a . tl (b) $$\n",
    "\n",
    "$$ M (a,b) = a (b_0 + 10 . b^\\prime) $$\n",
    "\n",
    "$$ M (a,b) = a . b $$\n"
   ]
  },
  {
   "cell_type": "code",
   "execution_count": null,
   "id": "ca42679e",
   "metadata": {},
   "outputs": [],
   "source": []
  }
 ],
 "metadata": {
  "kernelspec": {
   "display_name": "Python 3 (ipykernel)",
   "language": "python",
   "name": "python3"
  },
  "language_info": {
   "codemirror_mode": {
    "name": "ipython",
    "version": 3
   },
   "file_extension": ".py",
   "mimetype": "text/x-python",
   "name": "python",
   "nbconvert_exporter": "python",
   "pygments_lexer": "ipython3",
   "version": "3.8.5"
  }
 },
 "nbformat": 4,
 "nbformat_minor": 5
}
