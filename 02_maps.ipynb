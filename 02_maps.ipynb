{
 "cells": [
  {
   "cell_type": "code",
   "execution_count": null,
   "metadata": {},
   "outputs": [],
   "source": [
    "#| default_exp maps"
   ]
  },
  {
   "cell_type": "markdown",
   "metadata": {},
   "source": [
    "# EVCI maps\n",
    "\n",
    "> **API**: The API includes functions to read shapfiles and render them. The rendered outputs can be saved as images."
   ]
  },
  {
   "cell_type": "code",
   "execution_count": null,
   "metadata": {},
   "outputs": [],
   "source": [
    "#|hide\n",
    "from nbdev.showdoc import *"
   ]
  },
  {
   "cell_type": "code",
   "execution_count": null,
   "metadata": {},
   "outputs": [],
   "source": [
    "#|export\n",
    "\n",
    "import geopandas as gpd\n",
    "import matplotlib.pyplot as plt\n",
    "import numpy as np\n",
    "import shapely\n",
    "import os\n",
    "\n",
    "import pandas as pd\n",
    "import tqdm\n",
    "\n",
    "from evci_tool.config import *\n",
    "\n",
    "import warnings\n",
    "warnings.filterwarnings(\"ignore\")"
   ]
  },
  {
   "cell_type": "code",
   "execution_count": null,
   "metadata": {},
   "outputs": [],
   "source": [
    "#|export\n",
    "\n",
    "def show_map(corridor:str):\n",
    "    \"This function reads corresponding shape file and plots the points\"\n",
    "    \n",
    "    m,s,t,g,INPUT_PATH,OUTPUT_PATH = setup_and_read_data (corridor)\n",
    "\n",
    "    s_df = gpd.read_file(INPUT_PATH + 'shape_files/' + corridor + '.shp')\n",
    "\n",
    "    data = s['sites']\n",
    "    data['Latitude'] = pd.to_numeric(data['Latitude'])\n",
    "    data['Longitude'] = pd.to_numeric(data['Longitude'])\n",
    "    data['geometry'] = [shapely.geometry.Point(xy) for xy in zip(data['Longitude'],\n",
    "    data['Latitude'])]\n",
    "\n",
    "    #@title Create grid\n",
    "    # total area for the grid\n",
    "    xmin, ymin, xmax, ymax= s_df.total_bounds\n",
    "    print('Bounding box: ', xmin,xmax,ymin,ymax)\n",
    "    # how many cells across and down\n",
    "    n_cells=30\n",
    "    cell_size = (xmax-xmin)/n_cells\n",
    "\n",
    "    crs = s_df.crs\n",
    "\n",
    "    grid_cells = []\n",
    "    for x0 in np.arange(xmin, xmax+cell_size, cell_size ):\n",
    "        for y0 in np.arange(ymin, ymax+cell_size, cell_size):\n",
    "            # bounds\n",
    "            x1 = x0-cell_size\n",
    "            y1 = y0+cell_size\n",
    "            grid_cells.append( shapely.geometry.box(x0, y0, x1, y1) )\n",
    "    cell = gpd.GeoDataFrame(grid_cells, columns=['geometry'], crs=crs)\n",
    "\n",
    "    grid_s_df = gpd.overlay(s_df, cell, how='intersection')\n",
    "    \n",
    "    data_df = {}\n",
    "    data_df = gpd.GeoDataFrame(data,geometry=data['geometry'])\n",
    "\n",
    "    #total area\n",
    "    s_df['geometry'].to_crs(6933).map(lambda p: p.area/ 1e6).loc[0]\n",
    "\n",
    "    # plot the grid and the shapefiles\n",
    "    base = grid_s_df.plot(color='none', edgecolor='grey', alpha=0.4, figsize=(12,8))\n",
    "    s_df.plot(ax=base, color='none', edgecolor='black')\n",
    "    \n",
    "    data_df.plot(ax=base, markersize=100, legend=True)"
   ]
  },
  {
   "cell_type": "markdown",
   "metadata": {},
   "source": [
    "`Arguments`:\n",
    "\n",
    "`corridor`: a string describing the corridor to be analyzed\n",
    "\n",
    "`Returns`:\n",
    "\n",
    "None"
   ]
  },
  {
   "cell_type": "code",
   "execution_count": null,
   "metadata": {},
   "outputs": [],
   "source": [
    "#show_map(\"chandigarh_karnal\")"
   ]
  },
  {
   "cell_type": "markdown",
   "metadata": {},
   "source": [
    "**Note**: For the function `show_map()` to run without errors, you will need the corresponding GIS shape file (chandigarh_karnal.shp in this case) in the folder `input/chandigarh_karnal`.\n",
    "\n",
    "If run as-is, the function will likely throw an error and exit reporting the missing shape file."
   ]
  }
 ],
 "metadata": {
  "kernelspec": {
   "display_name": "python3",
   "language": "python",
   "name": "python3"
  }
 },
 "nbformat": 4,
 "nbformat_minor": 4
}
